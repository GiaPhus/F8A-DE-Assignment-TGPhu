{
 "cells": [
  {
   "cell_type": "code",
   "execution_count": 7,
   "id": "c4274a28-cd93-4caf-b010-3717d2250316",
   "metadata": {},
   "outputs": [
    {
     "name": "stderr",
     "output_type": "stream",
     "text": [
      "/tmp/ipykernel_798/2941590411.py:18: DtypeWarning: Columns (5,13) have mixed types. Specify dtype option on import or set low_memory=False.\n",
      "  meta_df = pd.read_csv(\"track_metadata.csv\",  on_bad_lines='skip')\n"
     ]
    }
   ],
   "source": [
    "import pandas as pd\n",
    "from qdrant_client import QdrantClient\n",
    "from qdrant_client.models import PointStruct, VectorParams, Distance\n",
    "\n",
    "# Config\n",
    "VECTOR_COLS = [\n",
    "    \"danceability\", \"energy\", \"loudness\", \"speechiness\",\n",
    "    \"acousticness\", \"instrumentalness\", \"liveness\",\n",
    "    \"valence\", \"tempo\"\n",
    "]\n",
    "COLLECTION_NAME = \"music_recommendation\"\n",
    "\n",
    "# Load data\n",
    "audio_df = pd.read_csv(\"track_features.csv\")\n",
    "audio_df[\"vector\"] = audio_df[VECTOR_COLS].values.tolist()\n",
    "\n",
    "# Load metadata\n",
    "meta_df = pd.read_csv(\"track_metadata.csv\",  on_bad_lines='skip')\n",
    "\n",
    "# Init client\n",
    "client = QdrantClient(host=\"qdrant\", port=6333)\n",
    "\n",
    "def create_collection():\n",
    "    client.recreate_collection(\n",
    "        collection_name=COLLECTION_NAME,\n",
    "        vectors_config=VectorParams(\n",
    "            size=len(VECTOR_COLS),\n",
    "            distance=Distance.COSINE\n",
    "        )\n",
    "    )\n",
    "    points = [\n",
    "        PointStruct(\n",
    "            id=int(i),\n",
    "            vector=row[\"vector\"],\n",
    "            payload={\"track_id\": row[\"track_id\"]}\n",
    "        )\n",
    "        for i, row in audio_df.iterrows()\n",
    "    ]\n",
    "    client.upsert(collection_name=COLLECTION_NAME, points=points)\n",
    "\n",
    "def search_similar_tracks(track_id, k=5):\n",
    "    vector = audio_df[audio_df[\"track_id\"] == track_id][\"vector\"].values[0]\n",
    "    results = client.search(\n",
    "        collection_name=COLLECTION_NAME,\n",
    "        query_vector=vector,\n",
    "        limit=k + 1\n",
    "    )\n",
    "    return [\n",
    "        r.payload[\"track_id\"]\n",
    "        for r in results\n",
    "        if r.payload[\"track_id\"] != track_id\n",
    "    ][:k]\n",
    "\n",
    "def get_track_info(track_id):\n",
    "    return meta_df[meta_df[\"track_id\"] == track_id].iloc[0].to_dict()\n",
    "\n",
    "def search_by_name(name):\n",
    "    return meta_df[meta_df[\"track_name\"].str.contains(name, case=False)]\n"
   ]
  },
  {
   "cell_type": "code",
   "execution_count": 9,
   "id": "2150afb6-4646-43b7-9d8d-34819b35d105",
   "metadata": {},
   "outputs": [
    {
     "name": "stderr",
     "output_type": "stream",
     "text": [
      "2025-06-20 14:16:53.030 Thread 'MainThread': missing ScriptRunContext! This warning can be ignored when running in bare mode.\n",
      "2025-06-20 14:16:53.031 Thread 'MainThread': missing ScriptRunContext! This warning can be ignored when running in bare mode.\n",
      "2025-06-20 14:16:53.031 Thread 'MainThread': missing ScriptRunContext! This warning can be ignored when running in bare mode.\n",
      "2025-06-20 14:16:53.032 Thread 'MainThread': missing ScriptRunContext! This warning can be ignored when running in bare mode.\n",
      "2025-06-20 14:16:53.032 Thread 'MainThread': missing ScriptRunContext! This warning can be ignored when running in bare mode.\n",
      "2025-06-20 14:16:53.033 Thread 'MainThread': missing ScriptRunContext! This warning can be ignored when running in bare mode.\n",
      "2025-06-20 14:16:53.033 Thread 'MainThread': missing ScriptRunContext! This warning can be ignored when running in bare mode.\n",
      "2025-06-20 14:16:53.034 Thread 'MainThread': missing ScriptRunContext! This warning can be ignored when running in bare mode.\n",
      "2025-06-20 14:16:53.034 Thread 'MainThread': missing ScriptRunContext! This warning can be ignored when running in bare mode.\n",
      "2025-06-20 14:16:53.034 Thread 'MainThread': missing ScriptRunContext! This warning can be ignored when running in bare mode.\n",
      "2025-06-20 14:16:53.034 Thread 'MainThread': missing ScriptRunContext! This warning can be ignored when running in bare mode.\n"
     ]
    }
   ],
   "source": [
    "import streamlit as st\n",
    "\n",
    "st.set_page_config(page_title=\"Music Recommender\", layout=\"wide\")\n",
    "st.title(\"🎧 Music Recommendation System (Qdrant)\")\n",
    "\n",
    "search_query = st.text_input(\"🔍 Search for a song\")\n",
    "\n",
    "if search_query:\n",
    "    results = search_by_name(search_query)\n",
    "    if len(results) == 0:\n",
    "        st.warning(\"No matching tracks found.\")\n",
    "    else:\n",
    "        selected = st.selectbox(\"Select a track\", results[\"track_name\"])\n",
    "        track_id = results[results[\"track_name\"] == selected][\"track_id\"].values[0]\n",
    "        main_track = get_track_info(track_id)\n",
    "\n",
    "        # Display current song\n",
    "        st.markdown(\"### ▶️ Now Playing\")\n",
    "        col1, col2 = st.columns([1, 3])\n",
    "        with col1:\n",
    "            st.image(main_track[\"image_album\"], use_column_width=True)\n",
    "        with col2:\n",
    "            st.markdown(f\"**🎵 {main_track['track_name']}**\")\n",
    "            st.markdown(f\"*🎤 {main_track['artist_name']}*\")\n",
    "            st.markdown(f\"🔗 [Spotify Link]({main_track.get('external_urls_tracks', '#')})\")\n",
    "\n",
    "        # Show recommendations\n",
    "        st.markdown(\"### 🎶 Similar Recommendations\")\n",
    "        similar_ids = search_similar_tracks(track_id)\n",
    "\n",
    "        rec_cols = st.columns(5)\n",
    "        for i, sid in enumerate(similar_ids):\n",
    "            info = get_track_info(sid)\n",
    "            with rec_cols[i % 5]:\n",
    "                st.image(info.get(\"image_album\", \"\"), use_column_width=True)\n",
    "                st.markdown(f\"**{info['track_name']}**\", help=info.get(\"artist_name\", \"\"))\n"
   ]
  },
  {
   "cell_type": "code",
   "execution_count": 8,
   "id": "7f5f3247-2ca3-4418-94ca-5e7febb8b49a",
   "metadata": {},
   "outputs": [
    {
     "data": {
      "text/plain": [
       "track_id                 303552\n",
       "track_name               303552\n",
       "external_urls_tracks     303551\n",
       "track_artist_id          303546\n",
       "artist_name              303541\n",
       "followers number         303540\n",
       "images_artists           303539\n",
       "external_urls_artists    303540\n",
       "track_album_id           303539\n",
       "album_name               303539\n",
       "release_date             303539\n",
       "image_album              303513\n",
       "external_urls_albums     303539\n",
       "duration_ms              303539\n",
       "explicit                 303539\n",
       "genres                   303539\n",
       "dtype: int64"
      ]
     },
     "execution_count": 8,
     "metadata": {},
     "output_type": "execute_result"
    }
   ],
   "source": [
    "meta_df.count()"
   ]
  },
  {
   "cell_type": "code",
   "execution_count": 1,
   "id": "affd84ad-4a5f-406e-85aa-b7eb89615658",
   "metadata": {},
   "outputs": [],
   "source": [
    "import pandas as pd\n",
    "\n",
    "features_df = pd.read_csv(\"track_features.csv\")\n",
    "meta_df = pd.read_csv(\"track_metadata.csv\", on_bad_lines='skip', low_memory=False)\n",
    "meta_df = meta_df.drop_duplicates(subset=\"track_name\", keep=\"first\")\n",
    "\n",
    "merged_df = pd.merge(features_df, meta_df, on=\"track_id\")\n",
    "merged_df.to_csv(\"track_full.csv\", index=False)"
   ]
  },
  {
   "cell_type": "code",
   "execution_count": null,
   "id": "198c0a14-e50f-4b80-a8ee-8253f0d56013",
   "metadata": {},
   "outputs": [],
   "source": []
  }
 ],
 "metadata": {
  "kernelspec": {
   "display_name": "Python 3 (ipykernel)",
   "language": "python",
   "name": "python3"
  },
  "language_info": {
   "codemirror_mode": {
    "name": "ipython",
    "version": 3
   },
   "file_extension": ".py",
   "mimetype": "text/x-python",
   "name": "python",
   "nbconvert_exporter": "python",
   "pygments_lexer": "ipython3",
   "version": "3.11.6"
  }
 },
 "nbformat": 4,
 "nbformat_minor": 5
}
