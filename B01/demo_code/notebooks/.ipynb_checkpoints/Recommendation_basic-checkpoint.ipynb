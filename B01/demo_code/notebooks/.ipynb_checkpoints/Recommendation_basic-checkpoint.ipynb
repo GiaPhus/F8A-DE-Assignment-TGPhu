{
 "cells": [
  {
   "cell_type": "code",
   "execution_count": null,
   "id": "c4274a28-cd93-4caf-b010-3717d2250316",
   "metadata": {},
   "outputs": [],
   "source": [
    "dsad"
   ]
  }
 ],
 "metadata": {
  "kernelspec": {
   "display_name": "Python 3 (ipykernel)",
   "language": "python",
   "name": "python3"
  },
  "language_info": {
   "codemirror_mode": {
    "name": "ipython",
    "version": 3
   },
   "file_extension": ".py",
   "mimetype": "text/x-python",
   "name": "python",
   "nbconvert_exporter": "python",
   "pygments_lexer": "ipython3",
   "version": "3.11.6"
  }
 },
 "nbformat": 4,
 "nbformat_minor": 5
}
